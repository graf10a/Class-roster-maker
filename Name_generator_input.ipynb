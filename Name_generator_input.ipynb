{
 "cells": [
  {
   "cell_type": "markdown",
   "metadata": {},
   "source": [
    "## The class roster maker for the Instant Classroom name generator\n",
    "\n",
    "### *Alexey Pronin*\n",
    "\n",
    "*August 28, 2017*\n",
    "\n",
    "### The brief description of the purpose of this notebook\n",
    "\n",
    "The purpose of this short Jupyter notebook is to extract students' first and last names from a gradebook file downloaded from **Blackboard** in the coma separated format. The output is generated in the form of a text file containig students' first and last names separated by comas, for instance:\n",
    "\n",
    "*Paul Johnson, John Smith, Mary Van der Waals*\n",
    "\n",
    "The list of names is to be used as an input on \n",
    "__[Instant Classroom name generator](https://www.superteachertools.us/myclassroom/?groupid=135410&groupfolder=)__\n",
    "web-site.\n",
    "\n",
    "The default name used in this notebook for the csv-file downloaded from Blackboard is *roster.csv*. A sample of the file is included in the notebook folder for demonstration. The filename can be adjusted by changing the value of the `path` variable defined in the next cell. If the Blackboard file you are processesing is not located in the notebook folder then it is necessary to provide the complete path to the file."
   ]
  },
  {
   "cell_type": "code",
   "execution_count": 1,
   "metadata": {},
   "outputs": [],
   "source": [
    "path <- 'roster.csv'\n",
    "#path <- 'ENTER YOUR PATH TO FILE HERE, COMMENT THE PRECEEDING LINE, AND UNCOMMENT THIS LINE'"
   ]
  },
  {
   "cell_type": "code",
   "execution_count": 2,
   "metadata": {},
   "outputs": [],
   "source": [
    "data <- read.csv(path)"
   ]
  },
  {
   "cell_type": "code",
   "execution_count": 3,
   "metadata": {},
   "outputs": [
    {
     "name": "stderr",
     "output_type": "stream",
     "text": [
      "\n",
      "Attaching package: ‘dplyr’\n",
      "\n",
      "The following objects are masked from ‘package:stats’:\n",
      "\n",
      "    filter, lag\n",
      "\n",
      "The following objects are masked from ‘package:base’:\n",
      "\n",
      "    intersect, setdiff, setequal, union\n",
      "\n"
     ]
    }
   ],
   "source": [
    "library(dplyr)"
   ]
  },
  {
   "cell_type": "code",
   "execution_count": 4,
   "metadata": {},
   "outputs": [],
   "source": [
    "data <- mutate(data, Name = paste(First.Name, Last.Name))"
   ]
  },
  {
   "cell_type": "code",
   "execution_count": 5,
   "metadata": {},
   "outputs": [],
   "source": [
    "data <- select(data, Name)"
   ]
  },
  {
   "cell_type": "code",
   "execution_count": 6,
   "metadata": {},
   "outputs": [],
   "source": [
    "data <- paste(data$Name, collapse = ', ')"
   ]
  },
  {
   "cell_type": "code",
   "execution_count": 7,
   "metadata": {},
   "outputs": [],
   "source": [
    "write(data, 'list.txt')"
   ]
  },
  {
   "cell_type": "markdown",
   "metadata": {},
   "source": [
    "Here are the names that have been recorded to the *list.txt* file:"
   ]
  },
  {
   "cell_type": "code",
   "execution_count": 8,
   "metadata": {},
   "outputs": [
    {
     "name": "stdout",
     "output_type": "stream",
     "text": [
      "[1] \"Paul Johnson, John Smith, Mary Van der Waals\"\n"
     ]
    }
   ],
   "source": [
    "print(data)"
   ]
  }
 ],
 "metadata": {
  "kernelspec": {
   "display_name": "R",
   "language": "R",
   "name": "ir"
  },
  "language_info": {
   "codemirror_mode": "r",
   "file_extension": ".r",
   "mimetype": "text/x-r-source",
   "name": "R",
   "pygments_lexer": "r",
   "version": "3.5.1"
  }
 },
 "nbformat": 4,
 "nbformat_minor": 2
}
